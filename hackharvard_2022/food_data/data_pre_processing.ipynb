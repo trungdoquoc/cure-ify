{
 "cells": [
  {
   "cell_type": "code",
   "execution_count": 397,
   "metadata": {},
   "outputs": [],
   "source": [
    "import pandas as pd\n",
    "import numpy as np\n",
    "import json\n",
    "import ast\n",
    "import random\n",
    "import matplotlib.pyplot as plt\n",
    "\n",
    "food_recipes = 'RAW_recipes.csv'\n",
    "food_ratings = 'RAW_interactions.csv'\n",
    "spice_data = 'spices_data.csv'\n",
    "\n",
    "pp_recipe = 'PP_recipes.csv'"
   ]
  },
  {
   "cell_type": "markdown",
   "metadata": {},
   "source": [
    "### spices_data.csv data wrangling ###"
   ]
  },
  {
   "cell_type": "code",
   "execution_count": 383,
   "metadata": {},
   "outputs": [],
   "source": [
    "spice_df = pd.read_csv(spice_data)\n",
    "spices_data_col = ['Digestion', 'General Health', 'Brain', 'Sickness', 'Cardiovascular', 'Female Health']\n",
    "for i in spices_data_col:\n",
    "    spice_df[i] = spice_df[i].replace(\" \",\"\")\n",
    "    \n",
    "spice_df.drop(index=33, inplace=True)"
   ]
  },
  {
   "cell_type": "code",
   "execution_count": 384,
   "metadata": {},
   "outputs": [],
   "source": [
    "# lovwercase letter:\n",
    "for index, row in spice_df.iterrows():\n",
    "    spice_df.at[index, 'Name'] = spice_df.at[index, 'Name'].replace(u'\\xa0', u' ').strip().lower()"
   ]
  },
  {
   "cell_type": "code",
   "execution_count": 386,
   "metadata": {},
   "outputs": [
    {
     "name": "stdout",
     "output_type": "stream",
     "text": [
      "basil\n",
      "turmeric\n",
      "saffron\n",
      "aloe vera\n",
      "juniper berry\n",
      "camille\n",
      "sage\n",
      "oregano\n",
      "chicory\n",
      "vanilla\n",
      "lavender\n",
      "flax seed\n",
      "cayenne\n",
      "cumin\n",
      "ginger\n",
      "amtchur\n",
      "radish\n",
      "lemongrass\n",
      "rosemary\n",
      "thyme\n",
      "allspice\n",
      "mint\n",
      "egg\n",
      "butter\n",
      "olive oil\n",
      "honey\n",
      "rice\n",
      "garlic\n",
      "onion\n",
      "milk\n",
      "potato\n",
      "flour\n",
      "tomato\n"
     ]
    }
   ],
   "source": [
    "for i in spice_df['Name']:\n",
    "    for "
   ]
  },
  {
   "cell_type": "code",
   "execution_count": 440,
   "metadata": {},
   "outputs": [],
   "source": [
    "spice_df\n",
    "# spice_path = \n",
    "spice_df.to_csv(\"spices_data_normalized.csv\", index=False)"
   ]
  },
  {
   "cell_type": "code",
   "execution_count": 279,
   "metadata": {},
   "outputs": [],
   "source": [
    "# add spice_id column to spice_df\n",
    "spice_df['spice_id'] = ''\n"
   ]
  },
  {
   "cell_type": "code",
   "execution_count": null,
   "metadata": {},
   "outputs": [],
   "source": [
    "for index, row in recipes_df.iterrows():\n",
    "    "
   ]
  },
  {
   "cell_type": "code",
   "execution_count": 101,
   "metadata": {},
   "outputs": [],
   "source": [
    "recipes_df = pd.read_csv(food_recipes)\n",
    "ratings_df = pd.read_csv(food_ratings)\n",
    "pp_rec_df = pd.read_csv(pp_recipe)"
   ]
  },
  {
   "cell_type": "code",
   "execution_count": 109,
   "metadata": {},
   "outputs": [
    {
     "data": {
      "text/plain": [
       "['[5481, 6324, 2499, 4717, 6276, 1170]']"
      ]
     },
     "execution_count": 109,
     "metadata": {},
     "output_type": "execute_result"
    }
   ],
   "source": [
    "pp_rec_df.loc[pp_rec_df['id'] == 31490]['ingredient_ids'].to_list()"
   ]
  },
  {
   "cell_type": "raw",
   "metadata": {},
   "source": [
    "### RAW_recipes.csv ###\n",
    "name + tags: keyword + theme detection\n",
    "nutrition: calories (#), total fat (percent daily value PDV 2000 cals), sugar (PDV) , sodium (PDV) , protein (PDV) , saturated fat (PDV)\n",
    "n_steps + n_ingredients: complexity (Quick, Prepared)\n",
    "steps: for return \n",
    "description: for return\n",
    "ingredients: each ingredient is used as customized recommendation factor (for example, what to eat when sick, or when feel sad, etc)\n",
    "\n",
    "### RAW_interactions.csv ###\n",
    "ratings: used for ordered \n",
    "\n",
    "Freq. used commands:\n",
    "- Find missing values in Dataframe: <TABLE>.isnull().sum()\n",
    "- Find rows with <VALUE>: <TABLE>.loc[<TABLE>['<COL>'] == <VALUE>]\n",
    "- Add new columns\n",
    "\n",
    "NOTES:\n",
    "recipes_df['id'] maps with PP_recipes[]\n",
    "\n",
    "TODOs:\n",
    "[ ] Find recommender systems  \n",
    "[ ] Contact William if needed help on this"
   ]
  },
  {
   "cell_type": "code",
   "execution_count": 28,
   "metadata": {
    "collapsed": true,
    "jupyter": {
     "outputs_hidden": true
    }
   },
   "outputs": [
    {
     "data": {
      "text/plain": [
       "2886      1613\n",
       "27208     1601\n",
       "89204     1579\n",
       "39087     1448\n",
       "67256     1322\n",
       "          ... \n",
       "155682       1\n",
       "154055       1\n",
       "252960       1\n",
       "144013       1\n",
       "386618       1\n",
       "Name: recipe_id, Length: 231637, dtype: int64"
      ]
     },
     "execution_count": 28,
     "metadata": {},
     "output_type": "execute_result"
    }
   ],
   "source": [
    "ratings_df['recipe_id'].value_counts()"
   ]
  },
  {
   "cell_type": "markdown",
   "metadata": {},
   "source": [
    "### RAW_recipes.csv data wrangling ###"
   ]
  },
  {
   "cell_type": "code",
   "execution_count": null,
   "metadata": {},
   "outputs": [],
   "source": [
    "recipes_df[['calories',\n",
    "    'total fat (PDV)',\n",
    "    'sugar (PDV)',\n",
    "    'sodium (PDV)',\n",
    "    'protein (PDV)',\n",
    "    'saturated fat (PDV)',\n",
    "    'carbohydrates (PDV)']] = recipes_df.nutrition.str.split(\",\",expand=True) "
   ]
  },
  {
   "cell_type": "code",
   "execution_count": 180,
   "metadata": {},
   "outputs": [],
   "source": [
    "recipes_df['calories'] =  recipes_df['calories'].apply(lambda x: x.replace('[','')) \n",
    "recipes_df['carbohydrates (PDV)'] =  recipes_df['carbohydrates (PDV)'].apply(lambda x: x.replace(']','')) \n",
    "recipes_df[['calories',\n",
    "            'total fat (PDV)',\n",
    "            'sugar (PDV)',\n",
    "            'sodium (PDV)',\n",
    "            'protein (PDV)',\n",
    "            'saturated fat (PDV)',\n",
    "            'carbohydrates (PDV)']] = recipes_df[['calories',\n",
    "                                                  'total fat (PDV)',\n",
    "                                                  'sugar (PDV)',\n",
    "                                                  'sodium (PDV)',\n",
    "                                                  'protein (PDV)',\n",
    "                                                  'saturated fat (PDV)',\n",
    "                                                  'carbohydrates (PDV)']].astype('float')"
   ]
  },
  {
   "cell_type": "code",
   "execution_count": 431,
   "metadata": {},
   "outputs": [
    {
     "data": {
      "text/plain": [
       "288000"
      ]
     },
     "execution_count": 431,
     "metadata": {},
     "output_type": "execute_result"
    }
   ],
   "source": [
    "max(list(recipes_df['minutes']))"
   ]
  },
  {
   "cell_type": "code",
   "execution_count": 430,
   "metadata": {},
   "outputs": [
    {
     "data": {
      "text/html": [
       "<div>\n",
       "<style scoped>\n",
       "    .dataframe tbody tr th:only-of-type {\n",
       "        vertical-align: middle;\n",
       "    }\n",
       "\n",
       "    .dataframe tbody tr th {\n",
       "        vertical-align: top;\n",
       "    }\n",
       "\n",
       "    .dataframe thead th {\n",
       "        text-align: right;\n",
       "    }\n",
       "</style>\n",
       "<table border=\"1\" class=\"dataframe\">\n",
       "  <thead>\n",
       "    <tr style=\"text-align: right;\">\n",
       "      <th></th>\n",
       "      <th>name</th>\n",
       "      <th>id</th>\n",
       "      <th>minutes</th>\n",
       "      <th>contributor_id</th>\n",
       "      <th>submitted</th>\n",
       "      <th>tags</th>\n",
       "      <th>n_steps</th>\n",
       "      <th>steps</th>\n",
       "      <th>description</th>\n",
       "      <th>ingredients</th>\n",
       "      <th>n_ingredients</th>\n",
       "      <th>calories</th>\n",
       "      <th>total fat (PDV)</th>\n",
       "      <th>sugar (PDV)</th>\n",
       "      <th>sodium (PDV)</th>\n",
       "      <th>protein (PDV)</th>\n",
       "      <th>saturated fat (PDV)</th>\n",
       "      <th>carbohydrates (PDV)</th>\n",
       "      <th>cuisine</th>\n",
       "      <th>is_sugar</th>\n",
       "    </tr>\n",
       "  </thead>\n",
       "  <tbody>\n",
       "    <tr>\n",
       "      <th>106564</th>\n",
       "      <td>homemade fruit smoothie with oats</td>\n",
       "      <td>469988</td>\n",
       "      <td>5</td>\n",
       "      <td>2039214</td>\n",
       "      <td>2011-12-17</td>\n",
       "      <td>[15-minutes-or-less, time-to-make, course, mai...</td>\n",
       "      <td>2</td>\n",
       "      <td>['blend above until smooth', 'serve the colder...</td>\n",
       "      <td>this is a delicious, um, drink that packs a bi...</td>\n",
       "      <td>[nonfat milk, rolled oats, flax seed, banana, ...</td>\n",
       "      <td>7</td>\n",
       "      <td>239.6</td>\n",
       "      <td>5.0</td>\n",
       "      <td>81.0</td>\n",
       "      <td>2.0</td>\n",
       "      <td>17.0</td>\n",
       "      <td>2.0</td>\n",
       "      <td>14.0</td>\n",
       "      <td>american</td>\n",
       "      <td>1</td>\n",
       "    </tr>\n",
       "  </tbody>\n",
       "</table>\n",
       "</div>"
      ],
      "text/plain": [
       "                                     name      id  minutes  contributor_id  \\\n",
       "106564  homemade fruit smoothie with oats  469988        5         2039214   \n",
       "\n",
       "         submitted                                               tags  \\\n",
       "106564  2011-12-17  [15-minutes-or-less, time-to-make, course, mai...   \n",
       "\n",
       "        n_steps                                              steps  \\\n",
       "106564        2  ['blend above until smooth', 'serve the colder...   \n",
       "\n",
       "                                              description  \\\n",
       "106564  this is a delicious, um, drink that packs a bi...   \n",
       "\n",
       "                                              ingredients  n_ingredients  \\\n",
       "106564  [nonfat milk, rolled oats, flax seed, banana, ...              7   \n",
       "\n",
       "        calories  total fat (PDV)  sugar (PDV)  sodium (PDV)  protein (PDV)  \\\n",
       "106564     239.6              5.0         81.0           2.0           17.0   \n",
       "\n",
       "        saturated fat (PDV)  carbohydrates (PDV)   cuisine is_sugar  \n",
       "106564                  2.0                 14.0  american        1  "
      ]
     },
     "execution_count": 430,
     "metadata": {},
     "output_type": "execute_result"
    }
   ],
   "source": [
    "recipes_df.loc[recipes_df['name']=='homemade fruit smoothie with oats']"
   ]
  },
  {
   "cell_type": "code",
   "execution_count": 432,
   "metadata": {},
   "outputs": [
    {
     "data": {
      "text/html": [
       "<div>\n",
       "<style scoped>\n",
       "    .dataframe tbody tr th:only-of-type {\n",
       "        vertical-align: middle;\n",
       "    }\n",
       "\n",
       "    .dataframe tbody tr th {\n",
       "        vertical-align: top;\n",
       "    }\n",
       "\n",
       "    .dataframe thead th {\n",
       "        text-align: right;\n",
       "    }\n",
       "</style>\n",
       "<table border=\"1\" class=\"dataframe\">\n",
       "  <thead>\n",
       "    <tr style=\"text-align: right;\">\n",
       "      <th></th>\n",
       "      <th>name</th>\n",
       "      <th>id</th>\n",
       "      <th>minutes</th>\n",
       "      <th>contributor_id</th>\n",
       "      <th>submitted</th>\n",
       "      <th>tags</th>\n",
       "      <th>n_steps</th>\n",
       "      <th>steps</th>\n",
       "      <th>description</th>\n",
       "      <th>ingredients</th>\n",
       "      <th>n_ingredients</th>\n",
       "      <th>calories</th>\n",
       "      <th>total fat (PDV)</th>\n",
       "      <th>sugar (PDV)</th>\n",
       "      <th>sodium (PDV)</th>\n",
       "      <th>protein (PDV)</th>\n",
       "      <th>saturated fat (PDV)</th>\n",
       "      <th>carbohydrates (PDV)</th>\n",
       "      <th>cuisine</th>\n",
       "      <th>is_sugar</th>\n",
       "    </tr>\n",
       "  </thead>\n",
       "  <tbody>\n",
       "    <tr>\n",
       "      <th>106563</th>\n",
       "      <td>homemade fruit liquers</td>\n",
       "      <td>291571</td>\n",
       "      <td>288000</td>\n",
       "      <td>553251</td>\n",
       "      <td>2008-03-12</td>\n",
       "      <td>[time-to-make, course, main-ingredient, prepar...</td>\n",
       "      <td>12</td>\n",
       "      <td>['rinse the fruit or berries , fruit must be c...</td>\n",
       "      <td>this should be a nice easy project for those w...</td>\n",
       "      <td>[berries, vodka, granulated sugar]</td>\n",
       "      <td>3</td>\n",
       "      <td>836.2</td>\n",
       "      <td>0.0</td>\n",
       "      <td>333.0</td>\n",
       "      <td>0.0</td>\n",
       "      <td>0.0</td>\n",
       "      <td>0.0</td>\n",
       "      <td>27.0</td>\n",
       "      <td></td>\n",
       "      <td>0</td>\n",
       "    </tr>\n",
       "  </tbody>\n",
       "</table>\n",
       "</div>"
      ],
      "text/plain": [
       "                          name      id  minutes  contributor_id   submitted  \\\n",
       "106563  homemade fruit liquers  291571   288000          553251  2008-03-12   \n",
       "\n",
       "                                                     tags  n_steps  \\\n",
       "106563  [time-to-make, course, main-ingredient, prepar...       12   \n",
       "\n",
       "                                                    steps  \\\n",
       "106563  ['rinse the fruit or berries , fruit must be c...   \n",
       "\n",
       "                                              description  \\\n",
       "106563  this should be a nice easy project for those w...   \n",
       "\n",
       "                               ingredients  n_ingredients  calories  \\\n",
       "106563  [berries, vodka, granulated sugar]              3     836.2   \n",
       "\n",
       "        total fat (PDV)  sugar (PDV)  sodium (PDV)  protein (PDV)  \\\n",
       "106563              0.0        333.0           0.0            0.0   \n",
       "\n",
       "        saturated fat (PDV)  carbohydrates (PDV) cuisine is_sugar  \n",
       "106563                  0.0                 27.0                0  "
      ]
     },
     "execution_count": 432,
     "metadata": {},
     "output_type": "execute_result"
    }
   ],
   "source": [
    "recipes_df.loc[recipes_df['minutes'] == 288000]\n",
    "\n",
    "# recipes_df.iloc[144074]"
   ]
  },
  {
   "cell_type": "code",
   "execution_count": 434,
   "metadata": {},
   "outputs": [
    {
     "data": {
      "text/plain": [
       "name                                   homemade fruit smoothie with oats\n",
       "id                                                                469988\n",
       "minutes                                                                5\n",
       "contributor_id                                                   2039214\n",
       "submitted                                                     2011-12-17\n",
       "tags                   [15-minutes-or-less, time-to-make, course, mai...\n",
       "n_steps                                                                2\n",
       "steps                  ['blend above until smooth', 'serve the colder...\n",
       "description            this is a delicious, um, drink that packs a bi...\n",
       "ingredients            [nonfat milk, rolled oats, flax seed, banana, ...\n",
       "n_ingredients                                                          7\n",
       "calories                                                           239.6\n",
       "total fat (PDV)                                                      5.0\n",
       "sugar (PDV)                                                         81.0\n",
       "sodium (PDV)                                                         2.0\n",
       "protein (PDV)                                                       17.0\n",
       "saturated fat (PDV)                                                  2.0\n",
       "carbohydrates (PDV)                                                 14.0\n",
       "cuisine                                                         american\n",
       "is_sugar                                                               1\n",
       "Name: 106564, dtype: object"
      ]
     },
     "execution_count": 434,
     "metadata": {},
     "output_type": "execute_result"
    }
   ],
   "source": [
    "recipes_df.iloc[106563]"
   ]
  },
  {
   "cell_type": "code",
   "execution_count": 419,
   "metadata": {},
   "outputs": [
    {
     "data": {
      "text/plain": [
       "name                                                no bake granola bars\n",
       "id                                                                299895\n",
       "minutes                                                               12\n",
       "contributor_id                                                    135870\n",
       "submitted                                                     2008-04-22\n",
       "tags                   [15-minutes-or-less, time-to-make, course, pre...\n",
       "n_steps                                                               10\n",
       "steps                  ['combine first three ingredients in a large b...\n",
       "description            i was looking for an option to those expensive...\n",
       "ingredients            [crisp rice cereal, quick-cooking oats, raisin...\n",
       "n_ingredients                                                          8\n",
       "calories                                                           141.9\n",
       "total fat (PDV)                                                      6.0\n",
       "sugar (PDV)                                                         44.0\n",
       "sodium (PDV)                                                         2.0\n",
       "protein (PDV)                                                        6.0\n",
       "saturated fat (PDV)                                                  4.0\n",
       "carbohydrates (PDV)                                                  8.0\n",
       "cuisine                                                                 \n",
       "is_sugar                                                               0\n",
       "Name: 144075, dtype: object"
      ]
     },
     "execution_count": 419,
     "metadata": {},
     "output_type": "execute_result"
    }
   ],
   "source": [
    "recipes_df.iloc[144074]\n",
    "\n",
    "recipes_df.at[144075, 'minutes'] = 12"
   ]
  },
  {
   "cell_type": "code",
   "execution_count": 358,
   "metadata": {},
   "outputs": [
    {
     "data": {
      "text/plain": [
       "name                    object\n",
       "id                       int64\n",
       "minutes                  int64\n",
       "contributor_id           int64\n",
       "submitted               object\n",
       "tags                    object\n",
       "n_steps                  int64\n",
       "steps                   object\n",
       "description             object\n",
       "ingredients             object\n",
       "n_ingredients            int64\n",
       "calories               float64\n",
       "total fat (PDV)        float64\n",
       "sugar (PDV)            float64\n",
       "sodium (PDV)           float64\n",
       "protein (PDV)          float64\n",
       "saturated fat (PDV)    float64\n",
       "carbohydrates (PDV)    float64\n",
       "cuisine                 object\n",
       "is_sugar                object\n",
       "dtype: object"
      ]
     },
     "execution_count": 358,
     "metadata": {},
     "output_type": "execute_result"
    }
   ],
   "source": [
    "recipes_df.dtypes"
   ]
  },
  {
   "cell_type": "code",
   "execution_count": 357,
   "metadata": {},
   "outputs": [],
   "source": [
    "recipes_df['is_sugar'] = ''\n"
   ]
  },
  {
   "cell_type": "code",
   "execution_count": null,
   "metadata": {},
   "outputs": [],
   "source": [
    "recipes_df['ingredients'] = recipes_df['ingredients'].apply(lambda x: ast.literal_eval(x))\n",
    "recipes_df['tags'] = recipes_df['tags'].apply(lambda x: ast.literal_eval(x))\n",
    "recipes_df.drop(labels='nutrition', axis=1, inplace=True)\n",
    "recipes_df['description'] = recipes_df['description'].apply(lambda x: str(x))\n",
    "recipes_df.drop(index=721, inplace=True) # NaN name"
   ]
  },
  {
   "cell_type": "code",
   "execution_count": 359,
   "metadata": {},
   "outputs": [],
   "source": [
    "s = 0\n",
    "for index, row in recipes_df.iterrows():\n",
    "    if 'sugar' in row['ingredients']:\n",
    "        recipes_df.at[index, 'is_sugar'] = 1\n",
    "        s += 1\n",
    "    else:\n",
    "        recipes_df.at[index, 'is_sugar'] = 0\n",
    "        "
   ]
  },
  {
   "cell_type": "code",
   "execution_count": 361,
   "metadata": {},
   "outputs": [
    {
     "data": {
      "text/plain": [
       "0         0\n",
       "1         0\n",
       "2         0\n",
       "3         0\n",
       "4         1\n",
       "         ..\n",
       "231632    1\n",
       "231633    0\n",
       "231634    0\n",
       "231635    0\n",
       "231636    0\n",
       "Name: is_sugar, Length: 231636, dtype: object"
      ]
     },
     "execution_count": 361,
     "metadata": {},
     "output_type": "execute_result"
    }
   ],
   "source": [
    "recipes_df['is_sugar']"
   ]
  },
  {
   "cell_type": "code",
   "execution_count": 443,
   "metadata": {},
   "outputs": [],
   "source": [
    "# Add cuisine to recipes:\n",
    "recipes_df['cuisine'] = ''\n",
    "for index, row in recipes_df.iterrows():\n",
    "    if 'asia' in row['tags'] or 'asia' in row['description']:\n",
    "        recipes_df.at[index,'cuisine'] = 'asia'\n",
    "        \n",
    "    elif 'american' in row['tags'] or 'american' in row['description']:\n",
    "        recipes_df.at[index,'cuisine'] = 'american'\n",
    "        \n",
    "    elif 'african' in row['tags'] or 'african' in row['description']:\n",
    "        recipes_df.at[index,'cuisine'] = 'african'\n",
    "        \n",
    "    elif 'italian' in row['tags'] or 'italian' in row['description']:\n",
    "        recipes_df.at[index,'cuisine'] = 'italian'\n",
    "        \n",
    "    elif 'chinese' in row['tags'] or 'chinese' in row['description']:\n",
    "        recipes_df.at[index,'cuisine'] = 'chinese'\n",
    "        \n",
    "    elif 'vietnamese' in row['tags'] or 'vietnamese' in row['description']:\n",
    "        recipes_df.at[index,'cuisine'] = 'vietnamese'\n",
    "    \n",
    "    elif 'indian' in row['tags'] or 'indian' in row['description']:\n",
    "        recipes_df.at[index,'cuisine'] = 'indian'\n",
    "        \n",
    "    elif 'french' in row['tags'] or 'french' in row['description']:\n",
    "        recipes_df.at[index,'cuisine'] = 'french'\n",
    "        \n",
    "    elif 'mexican' in row['tags'] or 'mexican' in row['description']:\n",
    "        recipes_df.at[index,'cuisine'] = 'mexican'"
   ]
  },
  {
   "cell_type": "code",
   "execution_count": 444,
   "metadata": {},
   "outputs": [],
   "source": [
    "recipes_df.to_csv(\"recipes_data_clean.csv\", index=False)"
   ]
  },
  {
   "cell_type": "code",
   "execution_count": null,
   "metadata": {},
   "outputs": [],
   "source": []
  },
  {
   "cell_type": "code",
   "execution_count": 289,
   "metadata": {},
   "outputs": [
    {
     "data": {
      "text/plain": [
       "54009"
      ]
     },
     "execution_count": 289,
     "metadata": {},
     "output_type": "execute_result"
    }
   ],
   "source": [
    "c=0\n",
    "for index, row in recipes_df.iterrows():\n",
    "    if row['cuisine'] != '':\n",
    "        c+=1\n",
    "c"
   ]
  },
  {
   "cell_type": "code",
   "execution_count": 310,
   "metadata": {},
   "outputs": [
    {
     "data": {
      "text/plain": [
       "1702"
      ]
     },
     "execution_count": 310,
     "metadata": {},
     "output_type": "execute_result"
    }
   ],
   "source": [
    "len(recipes_df.loc[recipes_df['cuisine'] == 'asia'])"
   ]
  },
  {
   "cell_type": "code",
   "execution_count": null,
   "metadata": {},
   "outputs": [],
   "source": []
  },
  {
   "cell_type": "code",
   "execution_count": 336,
   "metadata": {},
   "outputs": [],
   "source": [
    "def query_user_request(is_quick_meal = \n",
    "                       recipe_list: pd.DataFrame, \n",
    "                       list_ingr,\n",
    "                       emotion,\n",
    "                       physical_cond: dict,\n",
    "                       curr_health: dict,\n",
    "                       calories: float, \n",
    "                       cuisine=None):\n",
    "    \"\"\"\n",
    "    GOAL: \n",
    "    list_ingr has len 3(for now)\n",
    "    \n",
    "    \"\"\"\n",
    "    true_cond = []\n",
    "    for i in physical_cond:\n",
    "        if physical_cond[i] == True:\n",
    "            physical_cond\n",
    "    \n",
    "    \n",
    "    if len(list_ingr) > 7:\n",
    "        random.choice(foo)\n",
    "    \n",
    "    rec_food = []\n",
    "    for index, row in recipe_list.iterrows(): \n",
    "        for i in list_ingr:\n",
    "            if i in row['name'] or i in row['tags']:\n",
    "                rec_food.append(i)\n",
    "    \n",
    "    \n",
    "    return rec_food"
   ]
  },
  {
   "cell_type": "markdown",
   "metadata": {},
   "source": [
    "User1 Data:\n",
    "physical_cond = {\n",
    "    'Digestion' = True\n",
    "    'General Health' = False\n",
    "    'Cardiovascular' = False\n",
    "    'Female Health' = True\n",
    "    }\n",
    "\n",
    "curr_health = {'Sickness' = True, \n",
    "               'Brain' = True}\n",
    "\n",
    "MULTIPLE CHOICES:\n",
    "Q: Quick meal or not? (check box) -> quick_meal = True/False\n",
    "Q: Check the box of your physical condition (check box) -> return physical_cond format above\n",
    "Q: Are you feeling well, physically and emotionally? (check box) -> return curr_health format above\n",
    "Q: Do you want (1) food recommendation --> return result right away or (2) inspiration --> input voice?\n",
    "\n",
    "SENTENCE INPUT EXAMPLES:\n",
    "\n",
    "raw_input_1: \"I am [sick] today, I want some [chicken soup].\"\n",
    "raw_input_2: \"I'm doing great today! I want some Asian food with beef, some veggie to eat with that, and some rice\"\n",
    "raw_input_3: \"I want some chocolate cookie\"\n",
    "\n",
    "RECOMMENDATION RETURN:\n",
    "If (1) food recommendation is chosen:\n",
    "    print(\"Prioritizing your [physical_cond where True] and current health [curr_health where True]\")\n",
    "    return [recipe_1_dict, recipe_2_dict, etc]\n",
    "    \n",
    "Else (2) inspiration is chosen:\n",
    "    return return [recipe_1_dict, recipe_2_dict, etc] from user speech input\n",
    "    \n",
    "   total calories\n",
    "   PRIORITIZE physical_cond\n",
    "2) Recommend food for sickness, \"here are the spices for your current state, and some food recommendation\"\n",
    "Sentiment detected: \"Negative\"\n",
    "Important Phrases and Words: \""
   ]
  },
  {
   "cell_type": "code",
   "execution_count": 373,
   "metadata": {},
   "outputs": [],
   "source": [
    "kw_2 = ['beef', 'asian', 'today', 'asian_food', 'veggie', 'rice']"
   ]
  },
  {
   "cell_type": "code",
   "execution_count": 377,
   "metadata": {},
   "outputs": [
    {
     "data": {
      "text/plain": [
       "['veggie', 'asian_food', 'today', 'asian', 'rice']"
      ]
     },
     "execution_count": 377,
     "metadata": {},
     "output_type": "execute_result"
    }
   ],
   "source": [
    "random.sample(kw_2,k=5)"
   ]
  },
  {
   "cell_type": "code",
   "execution_count": null,
   "metadata": {},
   "outputs": [],
   "source": [
    "query_user_request()"
   ]
  }
 ],
 "metadata": {
  "kernelspec": {
   "display_name": "Python 3",
   "language": "python",
   "name": "python3"
  },
  "language_info": {
   "codemirror_mode": {
    "name": "ipython",
    "version": 3
   },
   "file_extension": ".py",
   "mimetype": "text/x-python",
   "name": "python",
   "nbconvert_exporter": "python",
   "pygments_lexer": "ipython3",
   "version": "3.7.7"
  }
 },
 "nbformat": 4,
 "nbformat_minor": 4
}
